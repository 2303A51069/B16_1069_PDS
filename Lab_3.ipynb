{
  "nbformat": 4,
  "nbformat_minor": 0,
  "metadata": {
    "colab": {
      "provenance": [],
      "authorship_tag": "ABX9TyO2VhkyNGe1KNEI3AXXX/jE",
      "include_colab_link": true
    },
    "kernelspec": {
      "name": "python3",
      "display_name": "Python 3"
    },
    "language_info": {
      "name": "python"
    }
  },
  "cells": [
    {
      "cell_type": "markdown",
      "metadata": {
        "id": "view-in-github",
        "colab_type": "text"
      },
      "source": [
        "<a href=\"https://colab.research.google.com/github/2303A51069/B16_1069_PDS/blob/main/Lab_3.ipynb\" target=\"_parent\"><img src=\"https://colab.research.google.com/assets/colab-badge.svg\" alt=\"Open In Colab\"/></a>"
      ]
    },
    {
      "cell_type": "code",
      "source": [
        "import numpy as np"
      ],
      "metadata": {
        "id": "BkfDaU6zE64U"
      },
      "execution_count": 43,
      "outputs": []
    },
    {
      "cell_type": "code",
      "source": [
        "A = np.random.randint(1, 10, (3, 3))\n",
        "B = np.random.randint(1, 10, (3, 3))\n",
        "\n",
        "print(\"Matrix A:\\n\", A)\n",
        "print(\"\\nMatrix B:\\n\", B)"
      ],
      "metadata": {
        "colab": {
          "base_uri": "https://localhost:8080/"
        },
        "id": "_fMWNbUcE6aP",
        "outputId": "80d14c44-0298-4040-97bd-7948d5078f84"
      },
      "execution_count": 44,
      "outputs": [
        {
          "output_type": "stream",
          "name": "stdout",
          "text": [
            "Matrix A:\n",
            " [[6 7 7]\n",
            " [8 2 2]\n",
            " [1 7 6]]\n",
            "\n",
            "Matrix B:\n",
            " [[4 7 2]\n",
            " [6 3 6]\n",
            " [8 3 5]]\n"
          ]
        }
      ]
    },
    {
      "cell_type": "code",
      "source": [
        "add_result = np.add(A, B)\n",
        "sub_result = np.subtract(A, B)"
      ],
      "metadata": {
        "id": "f4EAS44BE6SL"
      },
      "execution_count": 45,
      "outputs": []
    },
    {
      "cell_type": "code",
      "source": [
        "print(\"Matrix A:\\n\", A)"
      ],
      "metadata": {
        "colab": {
          "base_uri": "https://localhost:8080/"
        },
        "id": "FRj6aUkAE6Bs",
        "outputId": "ba6d8aa5-df38-469f-eaf7-46c653abdceb"
      },
      "execution_count": 46,
      "outputs": [
        {
          "output_type": "stream",
          "name": "stdout",
          "text": [
            "Matrix A:\n",
            " [[6 7 7]\n",
            " [8 2 2]\n",
            " [1 7 6]]\n"
          ]
        }
      ]
    },
    {
      "cell_type": "code",
      "source": [
        "print(\"Matrix B:\\n\", B)"
      ],
      "metadata": {
        "colab": {
          "base_uri": "https://localhost:8080/"
        },
        "id": "JY6NN_RpGpq9",
        "outputId": "caafc71a-e6b6-4d2a-9c25-fde24860e6df"
      },
      "execution_count": 47,
      "outputs": [
        {
          "output_type": "stream",
          "name": "stdout",
          "text": [
            "Matrix B:\n",
            " [[4 7 2]\n",
            " [6 3 6]\n",
            " [8 3 5]]\n"
          ]
        }
      ]
    },
    {
      "cell_type": "code",
      "source": [
        "print(\"\\nAddition Result:\\n\", add_result)"
      ],
      "metadata": {
        "colab": {
          "base_uri": "https://localhost:8080/"
        },
        "id": "9s-w1APbGsdN",
        "outputId": "e1b42ab7-d39c-4f7c-9637-dc950302591f"
      },
      "execution_count": 48,
      "outputs": [
        {
          "output_type": "stream",
          "name": "stdout",
          "text": [
            "\n",
            "Addition Result:\n",
            " [[10 14  9]\n",
            " [14  5  8]\n",
            " [ 9 10 11]]\n"
          ]
        }
      ]
    },
    {
      "cell_type": "code",
      "source": [
        "print(\"\\nSubtraction Result:\\n\", sub_result)"
      ],
      "metadata": {
        "colab": {
          "base_uri": "https://localhost:8080/"
        },
        "id": "whd__bEIGyQb",
        "outputId": "f4f47783-7bd1-4a47-aacd-40e04e8c3275"
      },
      "execution_count": 49,
      "outputs": [
        {
          "output_type": "stream",
          "name": "stdout",
          "text": [
            "\n",
            "Subtraction Result:\n",
            " [[ 2  0  5]\n",
            " [ 2 -1 -4]\n",
            " [-7  4  1]]\n"
          ]
        }
      ]
    },
    {
      "cell_type": "code",
      "source": [
        "\n",
        "print(f\"A[0][0] + B[0][0] = {A[0][0]} + {B[0][0]} = {add_result[0][0]}\")\n",
        "print(f\"A[0][0] - B[0][0] = {A[0][0]} - {B[0][0]} = {sub_result[0][0]}\")"
      ],
      "metadata": {
        "colab": {
          "base_uri": "https://localhost:8080/"
        },
        "id": "gcjiIFkUE5ap",
        "outputId": "5edb2cd6-517b-4577-def7-ee04d9998e17"
      },
      "execution_count": 50,
      "outputs": [
        {
          "output_type": "stream",
          "name": "stdout",
          "text": [
            "A[0][0] + B[0][0] = 6 + 4 = 10\n",
            "A[0][0] - B[0][0] = 6 - 4 = 2\n"
          ]
        }
      ]
    },
    {
      "cell_type": "markdown",
      "source": [
        "2)2D Matrix Multiplication"
      ],
      "metadata": {
        "id": "z61AarkJEtuH"
      }
    },
    {
      "cell_type": "code",
      "execution_count": 51,
      "metadata": {
        "id": "3jZb7Of_CLdK"
      },
      "outputs": [],
      "source": [
        "import numpy as np\n",
        "\n",
        "image = np.array([\n",
        "    [[123, 50, 200],\n",
        "     [34, 210, 89],\n",
        "     [255, 180, 75]],\n",
        "\n",
        "    [[45, 60, 90],\n",
        "     [220, 130, 40],\n",
        "     [10, 240, 180]],\n",
        "\n",
        "    [[100, 200, 150],\n",
        "     [60, 90, 120],\n",
        "     [80, 160, 220]]\n",
        "], dtype=np.uint8)"
      ]
    },
    {
      "cell_type": "code",
      "source": [
        "print(\"Original Image (3x3x3):\\n\", image)"
      ],
      "metadata": {
        "colab": {
          "base_uri": "https://localhost:8080/"
        },
        "id": "VnIfTY0uCXfp",
        "outputId": "580798ee-18b7-4015-ad96-e52fb0922e35"
      },
      "execution_count": 52,
      "outputs": [
        {
          "output_type": "stream",
          "name": "stdout",
          "text": [
            "Original Image (3x3x3):\n",
            " [[[123  50 200]\n",
            "  [ 34 210  89]\n",
            "  [255 180  75]]\n",
            "\n",
            " [[ 45  60  90]\n",
            "  [220 130  40]\n",
            "  [ 10 240 180]]\n",
            "\n",
            " [[100 200 150]\n",
            "  [ 60  90 120]\n",
            "  [ 80 160 220]]]\n"
          ]
        }
      ]
    },
    {
      "cell_type": "code",
      "source": [
        "red_layer = image[:, :, 0]\n",
        "green_layer = image[:, :, 1]\n",
        "blue_layer = image[:, :, 2]\n",
        "\n",
        "print(\"\\nRed Channel:\\n\", red_layer)\n",
        "print(\"\\nGreen Channel:\\n\", green_layer)\n",
        "print(\"\\nBlue Channel:\\n\", blue_layer)"
      ],
      "metadata": {
        "colab": {
          "base_uri": "https://localhost:8080/"
        },
        "id": "wtp5HIIaCaXT",
        "outputId": "db6abcfc-188f-4ae6-a442-0c91874c765f"
      },
      "execution_count": 53,
      "outputs": [
        {
          "output_type": "stream",
          "name": "stdout",
          "text": [
            "\n",
            "Red Channel:\n",
            " [[123  34 255]\n",
            " [ 45 220  10]\n",
            " [100  60  80]]\n",
            "\n",
            "Green Channel:\n",
            " [[ 50 210 180]\n",
            " [ 60 130 240]\n",
            " [200  90 160]]\n",
            "\n",
            "Blue Channel:\n",
            " [[200  89  75]\n",
            " [ 90  40 180]\n",
            " [150 120 220]]\n"
          ]
        }
      ]
    },
    {
      "cell_type": "code",
      "source": [
        "avg_red = np.mean(red_layer)\n",
        "avg_green = np.mean(green_layer)\n",
        "avg_blue = np.mean(blue_layer)\n",
        "\n",
        "print(\"\\nAverage Intensities:\")\n",
        "print(f\"Red: {avg_red:.2f}, Green: {avg_green:.2f}, Blue: {avg_blue:.2f}\")"
      ],
      "metadata": {
        "colab": {
          "base_uri": "https://localhost:8080/"
        },
        "id": "IYPYr_l8CcsV",
        "outputId": "8cab9cea-e81e-4402-87a3-692859aeb18e"
      },
      "execution_count": 54,
      "outputs": [
        {
          "output_type": "stream",
          "name": "stdout",
          "text": [
            "\n",
            "Average Intensities:\n",
            "Red: 103.00, Green: 146.67, Blue: 129.33\n"
          ]
        }
      ]
    },
    {
      "cell_type": "code",
      "source": [
        "brightened = np.clip(image + 50, 0, 255)\n",
        "print(\"\\nBrightened Image:\\n\", brightened)"
      ],
      "metadata": {
        "colab": {
          "base_uri": "https://localhost:8080/"
        },
        "id": "6EWTeS05Cfnj",
        "outputId": "bab288f2-070d-4f61-afb9-00281bb30e95"
      },
      "execution_count": 55,
      "outputs": [
        {
          "output_type": "stream",
          "name": "stdout",
          "text": [
            "\n",
            "Brightened Image:\n",
            " [[[173 100 250]\n",
            "  [ 84   4 139]\n",
            "  [ 49 230 125]]\n",
            "\n",
            " [[ 95 110 140]\n",
            "  [ 14 180  90]\n",
            "  [ 60  34 230]]\n",
            "\n",
            " [[150 250 200]\n",
            "  [110 140 170]\n",
            "  [130 210  14]]]\n"
          ]
        }
      ]
    },
    {
      "cell_type": "code",
      "source": [
        "A = np.array([[1, 2, 3],\n",
        "              [4, 5, 6]])\n",
        "\n",
        "# 1D Array\n",
        "b = np.array([10, 20, 30])\n",
        "\n",
        "# Broadcasting (2D + 1D)\n",
        "C = A + b\n",
        "print(\"2D + 1D Broadcasting:\\n\", C)"
      ],
      "metadata": {
        "colab": {
          "base_uri": "https://localhost:8080/"
        },
        "id": "YFLXoFp_Ciek",
        "outputId": "ec16d9b3-a950-45de-979b-abba4d0ee30d"
      },
      "execution_count": 56,
      "outputs": [
        {
          "output_type": "stream",
          "name": "stdout",
          "text": [
            "2D + 1D Broadcasting:\n",
            " [[11 22 33]\n",
            " [14 25 36]]\n"
          ]
        }
      ]
    },
    {
      "cell_type": "code",
      "source": [
        "D = np.ones((2,3,4)) * 5\n",
        "scalar = 10\n",
        "E = D + scalar\n",
        "print(\"\\n3D + scalar Broadcasting:\\n\", E)"
      ],
      "metadata": {
        "colab": {
          "base_uri": "https://localhost:8080/"
        },
        "id": "ep8xXSP_ClH6",
        "outputId": "945f7abf-bfd0-449a-dc9e-57989d75c935"
      },
      "execution_count": 57,
      "outputs": [
        {
          "output_type": "stream",
          "name": "stdout",
          "text": [
            "\n",
            "3D + scalar Broadcasting:\n",
            " [[[15. 15. 15. 15.]\n",
            "  [15. 15. 15. 15.]\n",
            "  [15. 15. 15. 15.]]\n",
            "\n",
            " [[15. 15. 15. 15.]\n",
            "  [15. 15. 15. 15.]\n",
            "  [15. 15. 15. 15.]]]\n"
          ]
        }
      ]
    },
    {
      "cell_type": "code",
      "source": [
        "b2 = np.array([1,2,3])\n",
        "expanded = b2[:, np.newaxis]\n",
        "print(\"\\nShape Transformation Example:\")\n",
        "print(\"Original b2.shape:\", b2.shape)\n",
        "print(\"Expanded b2.shape:\", expanded.shape)"
      ],
      "metadata": {
        "colab": {
          "base_uri": "https://localhost:8080/"
        },
        "id": "5CD1tnv7CpPy",
        "outputId": "4f22b547-c236-4194-bb0c-7a4da58130e9"
      },
      "execution_count": 58,
      "outputs": [
        {
          "output_type": "stream",
          "name": "stdout",
          "text": [
            "\n",
            "Shape Transformation Example:\n",
            "Original b2.shape: (3,)\n",
            "Expanded b2.shape: (3, 1)\n"
          ]
        }
      ]
    },
    {
      "cell_type": "code",
      "source": [
        "X = np.ones((2,3))\n",
        "Y = np.ones((3,))\n",
        "Z = X + Y\n",
        "print(\"\\n2D + 1D Broadcasting (Fixed Example):\")\n",
        "print(\"X shape:\", X.shape)\n",
        "print(\"Y shape:\", Y.shape)\n",
        "print(\"Result Z:\\n\", Z)"
      ],
      "metadata": {
        "colab": {
          "base_uri": "https://localhost:8080/"
        },
        "id": "GGjOp2buCsBE",
        "outputId": "40bd624c-3cc6-4dc8-e6e4-259a152b7cdb"
      },
      "execution_count": 59,
      "outputs": [
        {
          "output_type": "stream",
          "name": "stdout",
          "text": [
            "\n",
            "2D + 1D Broadcasting (Fixed Example):\n",
            "X shape: (2, 3)\n",
            "Y shape: (3,)\n",
            "Result Z:\n",
            " [[2. 2. 2.]\n",
            " [2. 2. 2.]]\n"
          ]
        }
      ]
    }
  ]
}