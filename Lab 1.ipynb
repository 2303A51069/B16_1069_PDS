{
  "nbformat": 4,
  "nbformat_minor": 0,
  "metadata": {
    "colab": {
      "provenance": [],
      "authorship_tag": "ABX9TyNdXvO/1/XDx1h5tpsQcIgl",
      "include_colab_link": true
    },
    "kernelspec": {
      "name": "python3",
      "display_name": "Python 3"
    },
    "language_info": {
      "name": "python"
    }
  },
  "cells": [
    {
      "cell_type": "markdown",
      "metadata": {
        "id": "view-in-github",
        "colab_type": "text"
      },
      "source": [
        "<a href=\"https://colab.research.google.com/github/2303A51069/B16_1069_PDS/blob/main/Lab%201.ipynb\" target=\"_parent\"><img src=\"https://colab.research.google.com/assets/colab-badge.svg\" alt=\"Open In Colab\"/></a>"
      ]
    },
    {
      "cell_type": "code",
      "execution_count": 29,
      "metadata": {
        "colab": {
          "base_uri": "https://localhost:8080/"
        },
        "id": "Wx6oTOIBt_lJ",
        "outputId": "86fa7114-de94-46b9-9359-87349e634415"
      },
      "outputs": [
        {
          "output_type": "stream",
          "name": "stdout",
          "text": [
            "\n",
            "--- Recursive Factorial Trace ---\n",
            "factorial( 5 ) =  5  * factorial( 4 )\n",
            "factorial( 4 ) =  4  * factorial( 3 )\n",
            "factorial( 3 ) =  3  * factorial( 2 )\n",
            "factorial( 2 ) =  2  * factorial( 1 )\n",
            "factorial( 1 ) = 1 (base case)\n",
            "Answer: 120\n"
          ]
        }
      ],
      "source": [
        "def factorial_recursive(n):\n",
        "    # check if n is negative\n",
        "    if n < 0:\n",
        "        print(\"Factorial not possible for negative numbers\")\n",
        "        return None\n",
        "    if n == 0 or n == 1:\n",
        "        print(\"factorial(\", n, \") = 1 (base case)\")\n",
        "        return 1\n",
        "    else:\n",
        "        print(\"factorial(\", n, \") = \", n, \" * factorial(\", n-1, \")\")\n",
        "        return n * factorial_recursive(n-1)\n",
        "num = 5\n",
        "print(\"\\n--- Recursive Factorial Trace ---\")\n",
        "print(\"Answer:\", factorial_recursive(num))"
      ]
    },
    {
      "cell_type": "code",
      "source": [
        "def factorial_tail(n, acc=1):\n",
        "    if n < 0:\n",
        "        return None\n",
        "    if n == 0 or n == 1:\n",
        "        return acc\n",
        "    return factorial_tail(n-1, n*acc)\n",
        "num = 5\n",
        "print(\"\\n--- Tail Recursive Factorial ---\")\n",
        "print(\"Answer:\", factorial_tail(num))\n"
      ],
      "metadata": {
        "colab": {
          "base_uri": "https://localhost:8080/"
        },
        "id": "bmPZ21Zqv0QJ",
        "outputId": "245db076-3b5d-4dd5-fbfd-d45d775e154e"
      },
      "execution_count": 30,
      "outputs": [
        {
          "output_type": "stream",
          "name": "stdout",
          "text": [
            "\n",
            "--- Tail Recursive Factorial ---\n",
            "Answer: 120\n"
          ]
        }
      ]
    },
    {
      "cell_type": "code",
      "source": [
        "def factorial_iterative(n):\n",
        "    if n < 0:\n",
        "        return None\n",
        "    fact = 1\n",
        "    for i in range(2, n+1):\n",
        "        fact *= i\n",
        "    return fact\n",
        "num = 5\n",
        "print(\"\\n--- Iterative Factorial ---\")\n",
        "print(\"Answer:\", factorial_iterative(num))\n"
      ],
      "metadata": {
        "colab": {
          "base_uri": "https://localhost:8080/"
        },
        "id": "7JXL0jFmv8VW",
        "outputId": "a1e5dce5-922e-4c69-83f6-2be30dabbc22"
      },
      "execution_count": 31,
      "outputs": [
        {
          "output_type": "stream",
          "name": "stdout",
          "text": [
            "\n",
            "--- Iterative Factorial ---\n",
            "Answer: 120\n"
          ]
        }
      ]
    },
    {
      "cell_type": "code",
      "source": [
        "num = 5\n",
        "print(\"\\nComparison Table:\")\n",
        "print(\"Recursive:\", factorial_recursive(num))\n",
        "print(\"Tail Recursion:\", factorial_tail(num))\n",
        "print(\"Iterative:\", factorial_iterative(num))\n"
      ],
      "metadata": {
        "colab": {
          "base_uri": "https://localhost:8080/"
        },
        "id": "kRHucnhWv_XO",
        "outputId": "a5c5b725-9656-4521-803f-98a554637c44"
      },
      "execution_count": 32,
      "outputs": [
        {
          "output_type": "stream",
          "name": "stdout",
          "text": [
            "\n",
            "Comparison Table:\n",
            "factorial( 5 ) =  5  * factorial( 4 )\n",
            "factorial( 4 ) =  4  * factorial( 3 )\n",
            "factorial( 3 ) =  3  * factorial( 2 )\n",
            "factorial( 2 ) =  2  * factorial( 1 )\n",
            "factorial( 1 ) = 1 (base case)\n",
            "Recursive: 120\n",
            "Tail Recursion: 120\n",
            "Iterative: 120\n"
          ]
        }
      ]
    },
    {
      "cell_type": "markdown",
      "source": [
        "2)Calculate nCr Using Recursive Factorial"
      ],
      "metadata": {
        "id": "3DVOIXtZxz1z"
      }
    },
    {
      "cell_type": "code",
      "source": [
        "def factorial_recursive(n):\n",
        "    if n < 0:\n",
        "        print(\"Factorial not possible for negative numbers\")\n",
        "        return None\n",
        "\n",
        "    if n == 0 or n == 1:   # base case\n",
        "        print(\"factorial(\", n, \") = 1\")\n",
        "        return 1\n",
        "\n",
        "    # recursive case\n",
        "    print(\"factorial(\", n, \") = \", n, \"* factorial(\", n-1, \")\")\n",
        "    return n * factorial_recursive(n-1)"
      ],
      "metadata": {
        "id": "Tzqmfn84yEf_"
      },
      "execution_count": 34,
      "outputs": []
    },
    {
      "cell_type": "code",
      "source": [
        "def nCr(n, r):\n",
        "    # validate input\n",
        "    if n < 0 or r < 0 or n < r:\n",
        "        print(\"Invalid values! make sure n ≥ r ≥ 0\")\n",
        "        return None\n",
        "\n",
        "    # edge cases\n",
        "    if r == 0 or n == r:\n",
        "        print(\"Since r=0 or n=r, nCr = 1 directly\")\n",
        "        return 1\n",
        "\n",
        "    # compute using formula nCr = n! / (r! * (n-r)!)\n",
        "    print(\"\\n--- Calculating n! ---\")\n",
        "    fact_n = factorial_recursive(n)\n",
        "    print(\"\\n--- Calculating r! ---\")\n",
        "    fact_r = factorial_recursive(r)\n",
        "    print(\"\\n--- Calculating (n-r)! ---\")\n",
        "    fact_n_r = factorial_recursive(n-r)\n",
        "\n",
        "    result = fact_n // (fact_r * fact_n_r)\n",
        "    return result\n"
      ],
      "metadata": {
        "id": "xXtRtz6ayMaU"
      },
      "execution_count": 35,
      "outputs": []
    },
    {
      "cell_type": "code",
      "source": [
        "n = 5\n",
        "r = 2\n",
        "print(\"\\n--- nCr Calculation ---\")\n",
        "print(\"C(\", n, \",\", r, \") =\", nCr(n, r))\n"
      ],
      "metadata": {
        "colab": {
          "base_uri": "https://localhost:8080/"
        },
        "id": "5W9N06PJyN5R",
        "outputId": "046c5350-5b99-43b5-9598-98c9d5827b97"
      },
      "execution_count": 36,
      "outputs": [
        {
          "output_type": "stream",
          "name": "stdout",
          "text": [
            "\n",
            "--- nCr Calculation ---\n",
            "\n",
            "--- Calculating n! ---\n",
            "factorial( 5 ) =  5 * factorial( 4 )\n",
            "factorial( 4 ) =  4 * factorial( 3 )\n",
            "factorial( 3 ) =  3 * factorial( 2 )\n",
            "factorial( 2 ) =  2 * factorial( 1 )\n",
            "factorial( 1 ) = 1\n",
            "\n",
            "--- Calculating r! ---\n",
            "factorial( 2 ) =  2 * factorial( 1 )\n",
            "factorial( 1 ) = 1\n",
            "\n",
            "--- Calculating (n-r)! ---\n",
            "factorial( 3 ) =  3 * factorial( 2 )\n",
            "factorial( 2 ) =  2 * factorial( 1 )\n",
            "factorial( 1 ) = 1\n",
            "C( 5 , 2 ) = 10\n"
          ]
        }
      ]
    },
    {
      "cell_type": "code",
      "source": [
        "import math\n",
        "n = 5\n",
        "r = 2\n",
        "print(\"\\n--- Comparison with math.comb ---\")\n",
        "print(\"math.comb(\", n, \",\", r, \") =\", math.comb(n, r))\n"
      ],
      "metadata": {
        "colab": {
          "base_uri": "https://localhost:8080/"
        },
        "id": "g2zcdB3WyRcG",
        "outputId": "d78e714e-16f0-42e8-b172-98375f19a53d"
      },
      "execution_count": 37,
      "outputs": [
        {
          "output_type": "stream",
          "name": "stdout",
          "text": [
            "\n",
            "--- Comparison with math.comb ---\n",
            "math.comb( 5 , 2 ) = 10\n"
          ]
        }
      ]
    }
  ]
}