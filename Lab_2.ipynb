{
  "nbformat": 4,
  "nbformat_minor": 0,
  "metadata": {
    "colab": {
      "provenance": [],
      "authorship_tag": "ABX9TyOrnAo5QzgIJqr6CpNj34rU",
      "include_colab_link": true
    },
    "kernelspec": {
      "name": "python3",
      "display_name": "Python 3"
    },
    "language_info": {
      "name": "python"
    }
  },
  "cells": [
    {
      "cell_type": "markdown",
      "metadata": {
        "id": "view-in-github",
        "colab_type": "text"
      },
      "source": [
        "<a href=\"https://colab.research.google.com/github/2303A51069/B16_1069_PDS/blob/main/Lab_2.ipynb\" target=\"_parent\"><img src=\"https://colab.research.google.com/assets/colab-badge.svg\" alt=\"Open In Colab\"/></a>"
      ]
    },
    {
      "cell_type": "code",
      "execution_count": 56,
      "metadata": {
        "id": "Nxjdvrjd5vna"
      },
      "outputs": [],
      "source": [
        "import numpy as np\n"
      ]
    },
    {
      "cell_type": "code",
      "source": [
        "marks = np.array([\n",
        "    [78, 85, 90],\n",
        "    [92, 88, 76],\n",
        "    [56, 67, 70],\n",
        "    [89, 94, 91],\n",
        "    [72, 60, 65]\n",
        "])"
      ],
      "metadata": {
        "id": "mSC1UtwW7VK_"
      },
      "execution_count": 57,
      "outputs": []
    },
    {
      "cell_type": "code",
      "source": [
        "print(\"Marks:\\n\", marks)"
      ],
      "metadata": {
        "colab": {
          "base_uri": "https://localhost:8080/"
        },
        "id": "IwgEvJes55DG",
        "outputId": "7cb0ba12-c799-4c23-bc34-9388f64e0d96"
      },
      "execution_count": 58,
      "outputs": [
        {
          "output_type": "stream",
          "name": "stdout",
          "text": [
            "Marks:\n",
            " [[78 85 90]\n",
            " [92 88 76]\n",
            " [56 67 70]\n",
            " [89 94 91]\n",
            " [72 60 65]]\n"
          ]
        }
      ]
    },
    {
      "cell_type": "code",
      "source": [
        "avg = np.mean(marks, axis=1)\n",
        "print(\"Average:\", avg)\n",
        "print(\"Minimum:\", np.min(marks))\n",
        "print(\"Maximum:\", np.max(marks))\n"
      ],
      "metadata": {
        "colab": {
          "base_uri": "https://localhost:8080/"
        },
        "id": "6YjD1v2e58v1",
        "outputId": "ee387868-0066-42a1-f016-51b34e55c45a"
      },
      "execution_count": 59,
      "outputs": [
        {
          "output_type": "stream",
          "name": "stdout",
          "text": [
            "Average: [84.33333333 85.33333333 64.33333333 91.33333333 65.66666667]\n",
            "Minimum: 56\n",
            "Maximum: 94\n"
          ]
        }
      ]
    },
    {
      "cell_type": "code",
      "source": [
        "print(\"2nd student:\", marks[1])\n"
      ],
      "metadata": {
        "colab": {
          "base_uri": "https://localhost:8080/"
        },
        "id": "pjrC8yAD6BJC",
        "outputId": "2937651d-5f3c-428a-ce9b-cf9a716f0ea8"
      },
      "execution_count": 61,
      "outputs": [
        {
          "output_type": "stream",
          "name": "stdout",
          "text": [
            "2nd student: [92 88 76]\n"
          ]
        }
      ]
    },
    {
      "cell_type": "code",
      "source": [
        "print(\"Above 80:\\n\", marks[marks > 80])"
      ],
      "metadata": {
        "colab": {
          "base_uri": "https://localhost:8080/"
        },
        "id": "_37nx_ia6EFp",
        "outputId": "c98291b9-96bf-4999-a80c-7b73e2aed359"
      },
      "execution_count": 63,
      "outputs": [
        {
          "output_type": "stream",
          "name": "stdout",
          "text": [
            "Above 80:\n",
            " [85 90 92 88 89 94 91]\n"
          ]
        }
      ]
    },
    {
      "cell_type": "code",
      "source": [
        "reshaped = marks.reshape(3, -1)\n",
        "print(\"Reshaped:\\n\", reshaped)"
      ],
      "metadata": {
        "colab": {
          "base_uri": "https://localhost:8080/"
        },
        "id": "xbxYo6h26IEN",
        "outputId": "630b4dd4-5725-4244-d037-7a8d7eab3473"
      },
      "execution_count": 64,
      "outputs": [
        {
          "output_type": "stream",
          "name": "stdout",
          "text": [
            "Reshaped:\n",
            " [[78 85 90 92 88]\n",
            " [76 56 67 70 89]\n",
            " [94 91 72 60 65]]\n"
          ]
        }
      ]
    },
    {
      "cell_type": "markdown",
      "source": [
        "2) Employee Salary Analysis with pandas DataFrame"
      ],
      "metadata": {
        "id": "30WTKQUp6csN"
      }
    },
    {
      "cell_type": "code",
      "source": [
        "import pandas as pd\n",
        "\n"
      ],
      "metadata": {
        "id": "OgqIo3-U6kPi"
      },
      "execution_count": 65,
      "outputs": []
    },
    {
      "cell_type": "code",
      "source": [
        "data = {\n",
        "    \"Name\": [\"esha\", \"Arnav\", \"Ishika\", \"David\", \"Aira\"],\n",
        "    \"ID\": [101, 102, 103, 104, 105],\n",
        "    \"Department\": [\"HR\", \"IT\", \"Finance\", \"IT\", \"Marketing\"],\n",
        "    \"Salary\": [45000, 60000, 75000, 50000, 82000]\n",
        "}"
      ],
      "metadata": {
        "id": "s1DCra0u7Nq_"
      },
      "execution_count": 66,
      "outputs": []
    },
    {
      "cell_type": "code",
      "source": [
        "df = pd.DataFrame(data)\n",
        "print(\"Employees:\\n\", df)"
      ],
      "metadata": {
        "colab": {
          "base_uri": "https://localhost:8080/"
        },
        "id": "x3lIi1T66ojC",
        "outputId": "86e6f20b-e00e-453b-b378-faf9585d1a25"
      },
      "execution_count": 67,
      "outputs": [
        {
          "output_type": "stream",
          "name": "stdout",
          "text": [
            "Employees:\n",
            "      Name   ID Department  Salary\n",
            "0    esha  101         HR   45000\n",
            "1   Arnav  102         IT   60000\n",
            "2  Ishika  103    Finance   75000\n",
            "3   David  104         IT   50000\n",
            "4    Aira  105  Marketing   82000\n"
          ]
        }
      ]
    },
    {
      "cell_type": "code",
      "source": [
        "print(\"Salary > 50000:\\n\", df[df[\"Salary\"] > 50000])"
      ],
      "metadata": {
        "colab": {
          "base_uri": "https://localhost:8080/"
        },
        "id": "_yIMld2e60YC",
        "outputId": "381ba07f-8b9d-4c88-8bb5-b6f271d1a1f6"
      },
      "execution_count": 68,
      "outputs": [
        {
          "output_type": "stream",
          "name": "stdout",
          "text": [
            "Salary > 50000:\n",
            "      Name   ID Department  Salary\n",
            "1   Arnav  102         IT   60000\n",
            "2  Ishika  103    Finance   75000\n",
            "4    Aira  105  Marketing   82000\n"
          ]
        }
      ]
    },
    {
      "cell_type": "code",
      "source": [
        "print(\"Sorted:\\n\", df.sort_values(by=\"Salary\", ascending=False))"
      ],
      "metadata": {
        "colab": {
          "base_uri": "https://localhost:8080/"
        },
        "id": "tu1k59Qw6382",
        "outputId": "8761ecd9-1ca4-4c26-c2d9-b51545ffeac0"
      },
      "execution_count": 69,
      "outputs": [
        {
          "output_type": "stream",
          "name": "stdout",
          "text": [
            "Sorted:\n",
            "      Name   ID Department  Salary\n",
            "4    Aira  105  Marketing   82000\n",
            "2  Ishika  103    Finance   75000\n",
            "1   Arnav  102         IT   60000\n",
            "3   David  104         IT   50000\n",
            "0    esha  101         HR   45000\n"
          ]
        }
      ]
    },
    {
      "cell_type": "code",
      "source": [
        "df[\"Bonus\"] = df[\"Salary\"] * 0.10\n",
        "print(\"With Bonus:\\n\", df)"
      ],
      "metadata": {
        "colab": {
          "base_uri": "https://localhost:8080/"
        },
        "id": "XcUmhNtw67Z5",
        "outputId": "e4471a8a-b34d-408b-a907-680b38b73480"
      },
      "execution_count": 70,
      "outputs": [
        {
          "output_type": "stream",
          "name": "stdout",
          "text": [
            "With Bonus:\n",
            "      Name   ID Department  Salary   Bonus\n",
            "0    esha  101         HR   45000  4500.0\n",
            "1   Arnav  102         IT   60000  6000.0\n",
            "2  Ishika  103    Finance   75000  7500.0\n",
            "3   David  104         IT   50000  5000.0\n",
            "4    Aira  105  Marketing   82000  8200.0\n"
          ]
        }
      ]
    },
    {
      "cell_type": "code",
      "source": [
        "df[\"Total_Expense\"] = df[\"Salary\"] + df[\"Bonus\"]\n",
        "print(\"Total Expense:\", df[\"Total_Expense\"].sum())"
      ],
      "metadata": {
        "colab": {
          "base_uri": "https://localhost:8080/"
        },
        "id": "G2Vgs0J66--S",
        "outputId": "d29c588d-8e54-4cc7-cdb0-831f7178929f"
      },
      "execution_count": 71,
      "outputs": [
        {
          "output_type": "stream",
          "name": "stdout",
          "text": [
            "Total Expense: 343200.0\n"
          ]
        }
      ]
    },
    {
      "cell_type": "code",
      "source": [
        "df.to_csv(\"employee_salary_analysis.csv\", index=False)\n",
        "print(\"Saved to CSV\")"
      ],
      "metadata": {
        "colab": {
          "base_uri": "https://localhost:8080/"
        },
        "id": "p_aLSqk17CRT",
        "outputId": "fb3d6f93-c1d8-4432-8069-e4ce7ef0b8d0"
      },
      "execution_count": 72,
      "outputs": [
        {
          "output_type": "stream",
          "name": "stdout",
          "text": [
            "Saved to CSV\n"
          ]
        }
      ]
    }
  ]
}