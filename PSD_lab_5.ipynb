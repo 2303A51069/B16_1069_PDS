{
  "nbformat": 4,
  "nbformat_minor": 0,
  "metadata": {
    "colab": {
      "provenance": [],
      "authorship_tag": "ABX9TyOBK/Gh6q8WDqPoQLJZtPN1",
      "include_colab_link": true
    },
    "kernelspec": {
      "name": "python3",
      "display_name": "Python 3"
    },
    "language_info": {
      "name": "python"
    }
  },
  "cells": [
    {
      "cell_type": "markdown",
      "metadata": {
        "id": "view-in-github",
        "colab_type": "text"
      },
      "source": [
        "<a href=\"https://colab.research.google.com/github/2303A51069/B16_1069_PDS/blob/main/PSD_lab_5.ipynb\" target=\"_parent\"><img src=\"https://colab.research.google.com/assets/colab-badge.svg\" alt=\"Open In Colab\"/></a>"
      ]
    },
    {
      "cell_type": "code",
      "execution_count": 15,
      "metadata": {
        "id": "tiU9eSnSH649"
      },
      "outputs": [],
      "source": [
        "import pandas as pd"
      ]
    },
    {
      "cell_type": "code",
      "source": [
        "\n",
        "students = pd.DataFrame({\n",
        "    \"id\": [1, 2, 3, 4],\n",
        "    \"name\": [\"Alice\", \"Bob\", \"Charlie\", \"David\"],\n",
        "    \"class\": [\"A\", \"B\", \"A\", \"B\"]\n",
        "})"
      ],
      "metadata": {
        "id": "C5k4U3rlINxG"
      },
      "execution_count": 16,
      "outputs": []
    },
    {
      "cell_type": "code",
      "source": [
        "scores = pd.DataFrame({\n",
        "    \"id\": [1, 2, 3, 5],\n",
        "    \"score\": [85, 90, 78, 92]\n",
        "})"
      ],
      "metadata": {
        "id": "Pt3QZQvbIV9Q"
      },
      "execution_count": 17,
      "outputs": []
    },
    {
      "cell_type": "code",
      "source": [
        "inner = pd.merge(students, scores, on=\"id\", how=\"inner\")\n",
        "left = pd.merge(students, scores, on=\"id\", how=\"left\")\n",
        "right = pd.merge(students, scores, on=\"id\", how=\"right\")\n",
        "print(inner[\"score\"].agg([\"mean\", \"max\", \"min\", \"count\"]))\n",
        "print(inner.groupby(\"class\")[\"score\"].agg([\"mean\", \"max\", \"min\", \"count\"]))"
      ],
      "metadata": {
        "colab": {
          "base_uri": "https://localhost:8080/"
        },
        "id": "CSYkcwifIal6",
        "outputId": "0c7b193e-af33-4d5b-a67b-bb3bfe916131"
      },
      "execution_count": 18,
      "outputs": [
        {
          "output_type": "stream",
          "name": "stdout",
          "text": [
            "mean     84.333333\n",
            "max      90.000000\n",
            "min      78.000000\n",
            "count     3.000000\n",
            "Name: score, dtype: float64\n",
            "       mean  max  min  count\n",
            "class                       \n",
            "A      81.5   85   78      2\n",
            "B      90.0   90   90      1\n"
          ]
        }
      ]
    },
    {
      "cell_type": "markdown",
      "source": [
        "2) Merge Two Real World Data sets and compute Aggregate Statistics Using pandas\n"
      ],
      "metadata": {
        "id": "bLltifxhI8pK"
      }
    },
    {
      "cell_type": "code",
      "source": [
        "import pandas as pd"
      ],
      "metadata": {
        "id": "ibTssmMoJHbn"
      },
      "execution_count": 19,
      "outputs": []
    },
    {
      "cell_type": "code",
      "source": [
        "customers = pd.DataFrame({\n",
        "    \"customer_id\": [1, 2, 3, 4],\n",
        "    \"name\": [\"Alice\", \"Bob\", \"Charlie\", \"David\"],\n",
        "    \"region\": [\"North\", \"South\", \"North\", \"East\"]\n",
        "})\n",
        "\n",
        "sales = pd.DataFrame({\n",
        "    \"sale_id\": [101, 102, 103, 104, 105],\n",
        "    \"customer_id\": [1, 2, 1, 3, 5],\n",
        "    \"amount\": [250, 300, 150, 400, 500]\n",
        "})"
      ],
      "metadata": {
        "id": "Io20nLzeJLWY"
      },
      "execution_count": 20,
      "outputs": []
    },
    {
      "cell_type": "code",
      "source": [
        "inner = pd.merge(customers, sales, on=\"customer_id\", how=\"inner\")\n",
        "left = pd.merge(customers, sales, on=\"customer_id\", how=\"left\")\n",
        "\n",
        "print(\"Sales Stats Overall:\\n\", inner[\"amount\"].agg([\"sum\", \"mean\", \"count\"]))\n",
        "print(\"\\nSales Stats by Customer:\\n\", inner.groupby(\"name\")[\"amount\"].sum())\n",
        "print(\"\\nSales Stats by Region:\\n\", inner.groupby(\"region\")[\"amount\"].agg([\"sum\", \"mean\", \"count\"]))"
      ],
      "metadata": {
        "colab": {
          "base_uri": "https://localhost:8080/"
        },
        "id": "RsWQxvl2JTew",
        "outputId": "f4a08a06-61c6-4fb8-c293-444458ea9a4a"
      },
      "execution_count": 21,
      "outputs": [
        {
          "output_type": "stream",
          "name": "stdout",
          "text": [
            "Sales Stats Overall:\n",
            " sum      1100.0\n",
            "mean      275.0\n",
            "count       4.0\n",
            "Name: amount, dtype: float64\n",
            "\n",
            "Sales Stats by Customer:\n",
            " name\n",
            "Alice      400\n",
            "Bob        300\n",
            "Charlie    400\n",
            "Name: amount, dtype: int64\n",
            "\n",
            "Sales Stats by Region:\n",
            "         sum        mean  count\n",
            "region                        \n",
            "North   800  266.666667      3\n",
            "South   300  300.000000      1\n"
          ]
        }
      ]
    }
  ]
}